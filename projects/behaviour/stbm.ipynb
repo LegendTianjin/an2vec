{
 "cells": [
  {
   "cell_type": "code",
   "execution_count": 1,
   "metadata": {},
   "outputs": [],
   "source": [
    "import itertools\n",
    "import os\n",
    "\n",
    "import numpy as np\n",
    "from scipy import sparse\n",
    "from tqdm import tqdm_notebook"
   ]
  },
  {
   "cell_type": "code",
   "execution_count": null,
   "metadata": {},
   "outputs": [],
   "source": [
    "STBM_PATH = os.path.join(settings.BEHAVIOUR_PATH, 'stbm')"
   ]
  },
  {
   "cell_type": "code",
   "execution_count": 2,
   "metadata": {},
   "outputs": [],
   "source": [
    "def stbm(n_nodes=100, n_clusters=40,  # Network parameters\n",
    "         n_topics=5, n_documents=30, n_slots=140, vocabulary_size=50,  # Language parameters\n",
    "         ρ=None, π=None, θ=None):\n",
    "    \"\"\"Simulate a network + document scenario with STBM.\"\"\"\n",
    "\n",
    "    α = np.ones(n_topics)\n",
    "    β = np.random.random(size=(n_topics, vocabulary_size))\n",
    "    β /= np.sum(β, axis=1)[:, np.newaxis]\n",
    "    if ρ is None:\n",
    "        ρ = np.random.random(n_clusters)\n",
    "        ρ /= np.sum(ρ)\n",
    "    if π is None:\n",
    "        pre_π = np.random.random((n_clusters, n_clusters))\n",
    "        π = np.triu(pre_π, k=1) + np.triu(pre_π).T\n",
    "    if θ is None:\n",
    "        θ = np.random.dirichlet(alpha=α, size=(n_clusters, n_clusters))\n",
    "    \n",
    "    topics_range = range(n_topics)\n",
    "    vocabulary_range = range(vocabulary_size)\n",
    "\n",
    "    # Order Latent Variables\n",
    "    Y = np.random.multinomial(1, pvals=ρ, size=n_nodes)\n",
    "    A = np.random.binomial(1, Y @ π @ Y.T)\n",
    "    Z = np.nan * np.zeros((n_nodes, n_nodes, n_documents, n_slots))\n",
    "    W = np.nan * np.zeros((n_nodes, n_nodes, n_documents, n_slots))\n",
    "\n",
    "    sources_A, destinations_A = np.where(A)\n",
    "    for i, j in tqdm_notebook(zip(sources_A, destinations_A), \"Z[i, j, :, :]\"):\n",
    "        Z[i, j, :, :] = np.random.choice(topics_range, p=θ[Y[i].astype(bool), Y[j].astype(bool)][0],\n",
    "                                         size=(n_documents, n_slots))\n",
    "\n",
    "    for k in tqdm_notebook(topics_range, \"W[k_idx]\"):\n",
    "        k_idx = np.where(Z == k)\n",
    "        W[k_idx] = np.random.choice(vocabulary_range, p=β[k], size=len(k_idx[0]))\n",
    "\n",
    "    return (Y, A, Z, W)"
   ]
  },
  {
   "cell_type": "code",
   "execution_count": 3,
   "metadata": {
    "scrolled": false
   },
   "outputs": [
    {
     "name": "stdout",
     "output_type": "stream",
     "text": [
      "### Creating scenario 1 ###\n"
     ]
    },
    {
     "data": {
      "application/vnd.jupyter.widget-view+json": {
       "model_id": "d413c6373d624ddf9fa418db8b4629e2",
       "version_major": 2,
       "version_minor": 0
      },
      "text/plain": [
       "HBox(children=(IntProgress(value=1, bar_style='info', description='θ', max=1), HTML(value='')))"
      ]
     },
     "metadata": {},
     "output_type": "display_data"
    },
    {
     "name": "stdout",
     "output_type": "stream",
     "text": [
      "\n",
      "ρ_S1\n",
      " [0.33333333 0.33333333 0.33333333]\n",
      "\n",
      "π_S1\n",
      " [[0.25 0.01 0.01]\n",
      " [0.01 0.25 0.01]\n",
      " [0.01 0.01 0.25]]\n",
      "\n",
      "θ_S1\n",
      " [[[1. 0. 0. 0.]\n",
      "  [0. 0. 0. 1.]\n",
      "  [0. 0. 0. 1.]]\n",
      "\n",
      " [[0. 0. 0. 1.]\n",
      "  [0. 1. 0. 0.]\n",
      "  [0. 0. 0. 1.]]\n",
      "\n",
      " [[0. 0. 0. 1.]\n",
      "  [0. 0. 0. 1.]\n",
      "  [0. 0. 1. 0.]]]\n",
      "\n",
      "\n"
     ]
    },
    {
     "data": {
      "application/vnd.jupyter.widget-view+json": {
       "model_id": "095c3fcbd7b44dd59cdd53f69ac1742b",
       "version_major": 2,
       "version_minor": 0
      },
      "text/plain": [
       "HBox(children=(IntProgress(value=1, bar_style='info', description='Z[i, j, :, :]', max=1), HTML(value='')))"
      ]
     },
     "metadata": {},
     "output_type": "display_data"
    },
    {
     "name": "stdout",
     "output_type": "stream",
     "text": [
      "\n"
     ]
    },
    {
     "data": {
      "application/vnd.jupyter.widget-view+json": {
       "model_id": "b10a9ec707ae4ebfb9f93ec3d9ef0cf7",
       "version_major": 2,
       "version_minor": 0
      },
      "text/plain": [
       "HBox(children=(IntProgress(value=0, description='W[k_idx]', max=4), HTML(value='')))"
      ]
     },
     "metadata": {},
     "output_type": "display_data"
    },
    {
     "name": "stdout",
     "output_type": "stream",
     "text": [
      "\n",
      "### Creating scenario 2 ###\n"
     ]
    },
    {
     "data": {
      "application/vnd.jupyter.widget-view+json": {
       "model_id": "13ff80297e294e68a9680bedc7a964f6",
       "version_major": 2,
       "version_minor": 0
      },
      "text/plain": [
       "HBox(children=(IntProgress(value=1, bar_style='info', description='θ', max=1), HTML(value='')))"
      ]
     },
     "metadata": {},
     "output_type": "display_data"
    },
    {
     "name": "stdout",
     "output_type": "stream",
     "text": [
      "\n",
      "ρ_S2\n",
      " [0.5 0.5]\n",
      "\n",
      "π_S2\n",
      " [[0.25 0.25]\n",
      " [0.25 0.25]]\n",
      "\n",
      "θ_S2\n",
      " [[[1. 0. 0.]\n",
      "  [0. 0. 1.]]\n",
      "\n",
      " [[0. 0. 1.]\n",
      "  [0. 1. 0.]]]\n",
      "\n",
      "\n"
     ]
    },
    {
     "data": {
      "application/vnd.jupyter.widget-view+json": {
       "model_id": "9a861bfa984940b98567348c06572418",
       "version_major": 2,
       "version_minor": 0
      },
      "text/plain": [
       "HBox(children=(IntProgress(value=1, bar_style='info', description='Z[i, j, :, :]', max=1), HTML(value='')))"
      ]
     },
     "metadata": {},
     "output_type": "display_data"
    },
    {
     "name": "stdout",
     "output_type": "stream",
     "text": [
      "\n"
     ]
    },
    {
     "data": {
      "application/vnd.jupyter.widget-view+json": {
       "model_id": "0ce04a9260804919a9b639ed7ec050d7",
       "version_major": 2,
       "version_minor": 0
      },
      "text/plain": [
       "HBox(children=(IntProgress(value=0, description='W[k_idx]', max=3), HTML(value='')))"
      ]
     },
     "metadata": {},
     "output_type": "display_data"
    },
    {
     "name": "stdout",
     "output_type": "stream",
     "text": [
      "\n",
      "### Creating scenario 3 ###\n"
     ]
    },
    {
     "data": {
      "application/vnd.jupyter.widget-view+json": {
       "model_id": "2ad778da0eaa43c8a84a63c537846e9f",
       "version_major": 2,
       "version_minor": 0
      },
      "text/plain": [
       "HBox(children=(IntProgress(value=1, bar_style='info', description='θ', max=1), HTML(value='')))"
      ]
     },
     "metadata": {},
     "output_type": "display_data"
    },
    {
     "name": "stdout",
     "output_type": "stream",
     "text": [
      "\n",
      "ρ_S3\n",
      " [0.25 0.25 0.25 0.25]\n",
      "\n",
      "π_S3\n",
      " [[0.25 0.01 0.01 0.01]\n",
      " [0.01 0.25 0.01 0.01]\n",
      " [0.01 0.01 0.25 0.01]\n",
      " [0.01 0.01 0.01 0.25]]\n",
      "\n",
      "θ_S3\n",
      " [[[1. 0. 0.]\n",
      "  [0. 0. 1.]\n",
      "  [0. 0. 1.]\n",
      "  [0. 0. 1.]]\n",
      "\n",
      " [[0. 0. 1.]\n",
      "  [0. 1. 0.]\n",
      "  [0. 0. 1.]\n",
      "  [0. 0. 1.]]\n",
      "\n",
      " [[0. 0. 1.]\n",
      "  [0. 0. 1.]\n",
      "  [1. 0. 0.]\n",
      "  [0. 0. 1.]]\n",
      "\n",
      " [[0. 0. 1.]\n",
      "  [0. 0. 1.]\n",
      "  [0. 0. 1.]\n",
      "  [0. 1. 0.]]]\n",
      "\n",
      "\n"
     ]
    },
    {
     "data": {
      "application/vnd.jupyter.widget-view+json": {
       "model_id": "1618204f7c35469799eee183e336497a",
       "version_major": 2,
       "version_minor": 0
      },
      "text/plain": [
       "HBox(children=(IntProgress(value=1, bar_style='info', description='Z[i, j, :, :]', max=1), HTML(value='')))"
      ]
     },
     "metadata": {},
     "output_type": "display_data"
    },
    {
     "name": "stdout",
     "output_type": "stream",
     "text": [
      "\n"
     ]
    },
    {
     "data": {
      "application/vnd.jupyter.widget-view+json": {
       "model_id": "cfc9567501ce4e36bf5da2667c978dc9",
       "version_major": 2,
       "version_minor": 0
      },
      "text/plain": [
       "HBox(children=(IntProgress(value=0, description='W[k_idx]', max=3), HTML(value='')))"
      ]
     },
     "metadata": {},
     "output_type": "display_data"
    },
    {
     "name": "stdout",
     "output_type": "stream",
     "text": [
      "\n"
     ]
    }
   ],
   "source": [
    "## Scenario 1\n",
    "print(\"### Creating scenario 1 ###\")\n",
    "\n",
    "n_clusters_S1 = 3\n",
    "n_topics_S1 = 4\n",
    "\n",
    "ρ_S1 = np.ones(n_clusters_S1) / n_clusters_S1\n",
    "π_S1 = 0.24 * np.diag(np.ones(n_clusters_S1)) + 0.01\n",
    "θ_S1 = np.zeros((n_clusters_S1, n_clusters_S1, n_topics_S1))\n",
    "θ_S1[1, 1, 1], θ_S1[2, 2, 2], θ_S1[0, 0, 0] = 1, 1, 1\n",
    "\n",
    "for i, j in tqdm_notebook(itertools.product(range(n_clusters_S1), range(n_clusters_S1)), \"θ\"):\n",
    "    if i != j:\n",
    "        θ_S1[i, j, 3] = 1\n",
    "\n",
    "print('ρ_S1\\n', ρ_S1)\n",
    "print()\n",
    "print('π_S1\\n', π_S1)\n",
    "print()\n",
    "print('θ_S1\\n', θ_S1)\n",
    "print()\n",
    "print()\n",
    "\n",
    "Y_S1, A_S1, Z_S1, W_S1 = stbm(n_clusters=n_clusters_S1, n_topics=n_topics_S1,\n",
    "                              ρ=ρ_S1, π=π_S1, θ=θ_S1)\n",
    "lab_S1 = np.sum(W_S1, axis=(1, 2, 3))\n",
    "\n",
    "\n",
    "## Scenario 2\n",
    "print(\"### Creating scenario 2 ###\")\n",
    "\n",
    "n_clusters_S2 = 2\n",
    "n_topics_S2 = 3\n",
    "\n",
    "ρ_S2 = np.ones(n_clusters_S2) / n_clusters_S2\n",
    "π_S2 = 0.25 * np.ones((n_clusters_S2, n_clusters_S2))\n",
    "θ_S2 = np.zeros((n_clusters_S2, n_clusters_S2, n_topics_S2))\n",
    "θ_S2[1, 1, 1], θ_S2[0, 0, 0] = 1, 1\n",
    "\n",
    "for i, j in tqdm_notebook(itertools.product(range(n_clusters_S2), range(n_clusters_S2)), \"θ\"):\n",
    "    if i != j:\n",
    "        θ_S2[i, j, 2] = 1\n",
    "\n",
    "print('ρ_S2\\n', ρ_S2)\n",
    "print()\n",
    "print('π_S2\\n', π_S2)\n",
    "print()\n",
    "print('θ_S2\\n', θ_S2)\n",
    "print()\n",
    "print()\n",
    "\n",
    "Y_S2, A_S2, Z_S2, W_S2 = stbm(n_clusters=n_clusters_S2, n_topics=n_topics_S2,\n",
    "                              ρ=ρ_S2, π=π_S2, θ=θ_S2)\n",
    "lab_S2 = np.sum(W_S2, axis=(1, 2, 3))\n",
    "\n",
    "\n",
    "## Scenario 3\n",
    "print(\"### Creating scenario 3 ###\")\n",
    "\n",
    "n_clusters_S3 = 4\n",
    "n_topics_S3 = 3\n",
    "\n",
    "ρ_S3 = np.ones(n_clusters_S3) / n_clusters_S3\n",
    "π_S3 = 0.24 * np.diag(np.ones(n_clusters_S3)) + 0.01\n",
    "θ_S3 = np.zeros((n_clusters_S3, n_clusters_S3, n_topics_S3))\n",
    "θ_S3[2, 2, 0], θ_S3[0, 0, 0], θ_S3[1, 1, 1], θ_S3[3, 3, 1] = 1, 1, 1, 1\n",
    "\n",
    "for i, j in tqdm_notebook(itertools.product(range(n_clusters_S3), range(n_clusters_S3)), \"θ\"):\n",
    "    if i != j:\n",
    "        θ_S3[i, j, 2] = 1\n",
    "\n",
    "print('ρ_S3\\n', ρ_S3)\n",
    "print()\n",
    "print('π_S3\\n', π_S3)\n",
    "print()\n",
    "print('θ_S3\\n', θ_S3)\n",
    "print()\n",
    "print()\n",
    "\n",
    "Y_S3, A_S3, Z_S3, W_S3 = stbm(n_clusters=n_clusters_S3, n_topics=n_topics_S3,\n",
    "                              ρ=ρ_S3, π=π_S3, θ=θ_S3)\n",
    "lab_S3 = np.sum(W_S3, axis=(1, 2, 3))"
   ]
  },
  {
   "cell_type": "code",
   "execution_count": 4,
   "metadata": {},
   "outputs": [],
   "source": [
    "np.savez(STBM_PATH + '/scenario-1.npz', Y=Y_S1, A=A_S1, Z=Z_S1, W=W_S1, lab=lab_S1)\n",
    "np.savez(STBM_PATH + '/scenario-2.npz', Y=Y_S2, A=A_S2, Z=Z_S2, W=W_S2, lab=lab_S2)\n",
    "np.savez(STBM_PATH + '/scenario-3.npz', Y=Y_S3, A=A_S3, Z=Z_S3, W=W_S3, lab=lab_S3)"
   ]
  }
 ],
 "metadata": {
  "kernelspec": {
   "display_name": "Python 3",
   "language": "python",
   "name": "python3"
  },
  "language_info": {
   "codemirror_mode": {
    "name": "ipython",
    "version": 3
   },
   "file_extension": ".py",
   "mimetype": "text/x-python",
   "name": "python",
   "nbconvert_exporter": "python",
   "pygments_lexer": "ipython3",
   "version": "3.6.6"
  },
  "toc": {
   "base_numbering": 1,
   "nav_menu": {},
   "number_sections": true,
   "sideBar": true,
   "skip_h1_title": false,
   "title_cell": "Table of Contents",
   "title_sidebar": "Contents",
   "toc_cell": false,
   "toc_position": {},
   "toc_section_display": true,
   "toc_window_display": false
  }
 },
 "nbformat": 4,
 "nbformat_minor": 2
}
