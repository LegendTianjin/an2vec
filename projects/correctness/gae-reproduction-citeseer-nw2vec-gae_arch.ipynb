{
 "cells": [
  {
   "cell_type": "markdown",
   "metadata": {},
   "source": [
    "# Train nw2vec with the original VGAE architecture for Cora embeddings"
   ]
  },
  {
   "cell_type": "code",
   "execution_count": 1,
   "metadata": {},
   "outputs": [
    {
     "name": "stderr",
     "output_type": "stream",
     "text": [
      "Using TensorFlow backend.\n"
     ]
    }
   ],
   "source": [
    "import os\n",
    "\n",
    "# Train on CPU (hide GPU) due to memory constraints\n",
    "os.environ['CUDA_VISIBLE_DEVICES'] = \"\"\n",
    "\n",
    "import contextlib\n",
    "\n",
    "import numpy as np\n",
    "import keras\n",
    "from keras_tqdm import TQDMNotebookCallback as TQDMCallback\n",
    "\n",
    "from nw2vec import layers\n",
    "from nw2vec import ae\n",
    "from nw2vec import utils\n",
    "from nw2vec import batching\n",
    "import settings\n",
    "\n",
    "from gae.input_data import load_data\n",
    "from gae.preprocessing import sparse_to_tuple, mask_test_edges"
   ]
  },
  {
   "cell_type": "code",
   "execution_count": 2,
   "metadata": {},
   "outputs": [],
   "source": [
    "@contextlib.contextmanager\n",
    "def gae_directory():\n",
    "    working_directory = os.path.abspath(os.curdir)\n",
    "    try:\n",
    "        # Move to the GAE directory\n",
    "        os.chdir('../../gae')\n",
    "        yield\n",
    "    finally:\n",
    "        # Move back\n",
    "        os.chdir(working_directory)"
   ]
  },
  {
   "cell_type": "code",
   "execution_count": 3,
   "metadata": {},
   "outputs": [],
   "source": [
    "# Load data\n",
    "with gae_directory():\n",
    "    adj, features = load_data('citeseer')\n",
    "    features = features.toarray()\n",
    "\n",
    "#adj_train = mask_test_edges(adj)[0]\n",
    "adj_train, train_edges, val_edges, val_edges_false, test_edges, test_edges_false = mask_test_edges(adj)\n",
    "assert adj_train.diagonal().sum() == 0"
   ]
  },
  {
   "cell_type": "code",
   "execution_count": 4,
   "metadata": {},
   "outputs": [],
   "source": [
    "dims = (features.shape[1], 32, 8, 8)\n",
    "n_ξ_samples =1"
   ]
  },
  {
   "cell_type": "code",
   "execution_count": 5,
   "metadata": {},
   "outputs": [],
   "source": [
    "def build_p_builder(dims, adj_kernel=None, use_bias=False, with_l1=True):\n",
    "\n",
    "    # Extract the dimensions we use.\n",
    "    dim_data, dim_l1, _, _ = dims\n",
    "\n",
    "    def p_builder(p_input):\n",
    "        if with_l1:\n",
    "            # Unshared intermediate layer.\n",
    "            p_penultimate_adj = keras.layers.Dense(\n",
    "                dim_l1, use_bias=use_bias, activation='relu',\n",
    "                kernel_regularizer='l2', bias_regularizer='l2',\n",
    "                name='p_layer1_adj'\n",
    "            )(p_input)\n",
    "        else:\n",
    "            # No intermediate layer.\n",
    "            p_penultimate_adj = p_input\n",
    "\n",
    "        # Prepare kwargs for the Bilinear adj decoder, then build it.\n",
    "        adj_kwargs = {}\n",
    "        if adj_kernel is not None:\n",
    "            adj_kwargs['fixed_kernel'] = adj_kernel\n",
    "        else:\n",
    "            adj_kwargs['kernel_regularizer'] = 'l2'\n",
    "        p_adj = layers.Bilinear(0, use_bias=use_bias, name='p_adj',\n",
    "                                bias_regularizer='l2',\n",
    "                                **adj_kwargs)([p_penultimate_adj, p_penultimate_adj])\n",
    "\n",
    "        return ([p_adj], ('SigmoidBernoulliScaledAdjacency',))\n",
    "\n",
    "    return p_builder"
   ]
  },
  {
   "cell_type": "code",
   "execution_count": 6,
   "metadata": {},
   "outputs": [],
   "source": [
    "q_model, q_codecs = ae.build_q(dims, fullbatcher=batching.fullbatches)\n",
    "p_builder = build_p_builder(dims, adj_kernel=np.eye(16), with_l1=False)\n",
    "\n",
    "vae, vae_codecs = ae.build_vae(\n",
    "    (q_model, q_codecs),\n",
    "    p_builder,\n",
    "    n_ξ_samples,\n",
    "    [1.0, 1.0]\n",
    ")"
   ]
  },
  {
   "cell_type": "code",
   "execution_count": 7,
   "metadata": {},
   "outputs": [],
   "source": [
    "def target_func(batch_adj, required_nodes, final_nodes):\n",
    "    return [\n",
    "        np.zeros(1),  # ignored\n",
    "        utils.expand_dims_tile(\n",
    "            utils.expand_dims_tile(batch_adj + np.eye(batch_adj.shape[0]),\n",
    "                                   0, n_ξ_samples),\n",
    "            0, 1\n",
    "        )\n",
    "    ]"
   ]
  },
  {
   "cell_type": "code",
   "execution_count": 8,
   "metadata": {},
   "outputs": [
    {
     "name": "stderr",
     "output_type": "stream",
     "text": [
      "/home/slerique/anaconda3/envs/base36/lib/python3.6/site-packages/tensorflow/python/ops/gradients_impl.py:100: UserWarning: Converting sparse IndexedSlices to a dense Tensor of unknown shape. This may consume a large amount of memory.\n",
      "  \"Converting sparse IndexedSlices to a dense Tensor of unknown shape. \"\n"
     ]
    },
    {
     "data": {
      "application/vnd.jupyter.widget-view+json": {
       "model_id": "a25e01259c364b9ba3381764ac91e50d",
       "version_major": 2,
       "version_minor": 0
      },
      "text/plain": [
       "HBox(children=(IntProgress(value=0, description='Training', max=200), HTML(value='')))"
      ]
     },
     "metadata": {},
     "output_type": "display_data"
    },
    {
     "name": "stdout",
     "output_type": "stream",
     "text": [
      "\n"
     ]
    }
   ],
   "source": [
    "n_epochs = 200\n",
    "\n",
    "history = vae.fit_fullbatches(batcher_kws={'adj': adj_train, 'features': features, 'target_func': target_func},\n",
    "                              epochs=n_epochs,\n",
    "                              verbose=0, callbacks=[TQDMCallback(show_inner=False)])"
   ]
  },
  {
   "cell_type": "code",
   "execution_count": 9,
   "metadata": {},
   "outputs": [],
   "source": [
    "history = {'history': history.history}"
   ]
  },
  {
   "cell_type": "markdown",
   "metadata": {},
   "source": [
    "## Results"
   ]
  },
  {
   "cell_type": "code",
   "execution_count": 10,
   "metadata": {},
   "outputs": [],
   "source": [
    "import matplotlib.pyplot as plt"
   ]
  },
  {
   "cell_type": "code",
   "execution_count": 11,
   "metadata": {},
   "outputs": [
    {
     "data": {
      "image/png": "[encoded data removed]",
      "text/plain": [
       "<Figure size 1080x288 with 3 Axes>"
      ]
     },
     "metadata": {
      "needs_background": "light"
     },
     "output_type": "display_data"
    }
   ],
   "source": [
    "fig, axes = plt.subplots(1, len(history['history']), figsize=(len(history['history']) * 5, 4))\n",
    "for i, (title, values) in enumerate(history['history'].items()):\n",
    "    axes[i].plot(np.array(values))\n",
    "    axes[i].set_title(title)\n",
    "fig.tight_layout()"
   ]
  },
  {
   "cell_type": "markdown",
   "metadata": {},
   "source": [
    "## Precision"
   ]
  },
  {
   "cell_type": "code",
   "execution_count": 12,
   "metadata": {},
   "outputs": [],
   "source": [
    "import scipy\n",
    "from sklearn.metrics import roc_auc_score\n",
    "from sklearn.metrics import average_precision_score\n",
    "from keras import backend as K"
   ]
  },
  {
   "cell_type": "code",
   "execution_count": 13,
   "metadata": {},
   "outputs": [],
   "source": [
    "def get_roc_score(edges_pos, edges_neg, adj_pred):\n",
    "    # Predict on test set of edges\n",
    "    preds = []\n",
    "    pos = []\n",
    "    for e in edges_pos:\n",
    "        preds.append(adj_pred[e[0], e[1]])\n",
    "        pos.append(adj[e[0], e[1]])\n",
    "\n",
    "    preds_neg = []\n",
    "    neg = []\n",
    "    for e in edges_neg:\n",
    "        preds_neg.append(adj_pred[e[0], e[1]])\n",
    "        neg.append(adj[e[0], e[1]])\n",
    "\n",
    "    preds_all = np.hstack([preds, preds_neg])\n",
    "    labels_all = np.hstack([np.ones(len(preds)), np.zeros(len(preds))])\n",
    "    roc_score = roc_auc_score(labels_all, preds_all)\n",
    "    ap_score = average_precision_score(labels_all, preds_all)\n",
    "\n",
    "    return roc_score, ap_score"
   ]
  },
  {
   "cell_type": "code",
   "execution_count": 14,
   "metadata": {},
   "outputs": [],
   "source": [
    "q_preds, adj_preds = zip(*[vae.predict_fullbatch(adj=adj, features=features) for _ in range(10)])\n",
    "\n",
    "q_preds = np.array(q_preds)\n",
    "adj_preds = np.array(adj_preds)\n",
    "\n",
    "q_pred = q_preds.mean(0)\n",
    "adj_pred = scipy.special.expit(adj_preds[:, 0, :, :, :]).mean(1).mean(0)"
   ]
  },
  {
   "cell_type": "code",
   "execution_count": 15,
   "metadata": {},
   "outputs": [
    {
     "data": {
      "text/plain": [
       "(0.9813404178239343, 0.9814273803655471)"
      ]
     },
     "execution_count": 15,
     "metadata": {},
     "output_type": "execute_result"
    }
   ],
   "source": [
    "get_roc_score(test_edges, test_edges_false, adj_pred)"
   ]
  },
  {
   "cell_type": "code",
   "execution_count": null,
   "metadata": {},
   "outputs": [],
   "source": [
    "for layer in vae.layers:\n",
    "    if hasattr(layer, 'kernel'):\n",
    "        fig, (ax1, ax2) = plt.subplots(1, 2, figsize=(6, 4))#, sharey=True)\n",
    "        im1 = ax1.imshow(K.eval(layer.kernel).T)\n",
    "        ax1.set_title('{} kernel'.format(layer.name))\n",
    "        plt.colorbar(im1, ax=ax1)\n",
    "        if hasattr(layer, 'bias') and layer.bias is not None:\n",
    "            im2 = ax2.imshow(K.eval(K.expand_dims(layer.bias, -1)))\n",
    "            ax2.set_title('{} bias'.format(layer.name))\n",
    "            plt.colorbar(im2, ax=ax2)\n",
    "        else:\n",
    "            ax2.set_visible(False)"
   ]
  },
  {
   "cell_type": "markdown",
   "metadata": {},
   "source": [
    "## Plot the embeddings"
   ]
  },
  {
   "cell_type": "code",
   "execution_count": null,
   "metadata": {},
   "outputs": [],
   "source": [
    "import pickle\n",
    "\n",
    "%matplotlib inline\n",
    "import matplotlib.pyplot as plt\n",
    "import scipy\n",
    "import scipy.sparse as sp\n",
    "import seaborn as sb\n",
    "\n",
    "from sklearn.manifold import MDS"
   ]
  },
  {
   "cell_type": "code",
   "execution_count": null,
   "metadata": {},
   "outputs": [],
   "source": [
    "# Downscale the embeddings\n",
    "mds = MDS(n_jobs=-2, )\n",
    "mds.fit(q_pred[:, :dims[-1]].astype(np.float64))"
   ]
  },
  {
   "cell_type": "code",
   "execution_count": null,
   "metadata": {},
   "outputs": [],
   "source": [
    "# Load the ground truth labels\n",
    "\n",
    "def parse_index_file(filename):\n",
    "    index = []\n",
    "    for line in open(filename):\n",
    "        index.append(int(line.strip()))\n",
    "    return index\n",
    "\n",
    "with gae_directory():\n",
    "    ty = pickle.load(open(\"data/ind.cora.ty\", 'rb'), encoding='latin1')\n",
    "    ally = pickle.load(open(\"data/ind.cora.ally\", 'rb'), encoding='latin1')\n",
    "    test_idx_reorder = parse_index_file(\"data/ind.cora.test.index\")\n",
    "test_idx_range = np.sort(test_idx_reorder)\n",
    "\n",
    "labels = sp.vstack((ally, ty)).toarray()\n",
    "labels[test_idx_reorder, :] = labels[test_idx_range, :]"
   ]
  },
  {
   "cell_type": "code",
   "execution_count": null,
   "metadata": {},
   "outputs": [],
   "source": [
    "# Turn labels into colors\n",
    "palette = sb.color_palette(n_colors=labels.shape[1])\n",
    "colors = np.array(palette)[np.argmax(labels, axis=1)]"
   ]
  },
  {
   "cell_type": "code",
   "execution_count": null,
   "metadata": {},
   "outputs": [],
   "source": [
    "# Plot the downscaled embeddings and the links\n",
    "fig, ax = plt.subplots(figsize=(15, 15))\n",
    "edges = np.array([[mds.embedding_[i], mds.embedding_[j]] for (i, j) in sparse_to_tuple(sp.triu(adj))[0]])\n",
    "edges = edges.transpose([2, 1, 0])\n",
    "ax.plot(edges[0], edges[1], color='lightgrey', zorder=1)\n",
    "ax.scatter(mds.embedding_[:, 0], mds.embedding_[:, 1], c=colors, zorder=2)"
   ]
  }
 ],
 "metadata": {
  "kernelspec": {
   "display_name": "Python 3",
   "language": "python",
   "name": "python3"
  },
  "language_info": {
   "codemirror_mode": {
    "name": "ipython",
    "version": 3
   },
   "file_extension": ".py",
   "mimetype": "text/x-python",
   "name": "python",
   "nbconvert_exporter": "python",
   "pygments_lexer": "ipython3",
   "version": "3.6.6"
  }
 },
 "nbformat": 4,
 "nbformat_minor": 2
}
